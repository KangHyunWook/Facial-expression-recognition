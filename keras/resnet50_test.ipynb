{
  "nbformat": 4,
  "nbformat_minor": 0,
  "metadata": {
    "colab": {
      "provenance": [],
      "gpuType": "T4"
    },
    "kernelspec": {
      "name": "python3",
      "display_name": "Python 3"
    },
    "language_info": {
      "name": "python"
    },
    "accelerator": "GPU"
  },
  "cells": [
    {
      "cell_type": "code",
      "execution_count": 4,
      "metadata": {
        "colab": {
          "base_uri": "https://localhost:8080/"
        },
        "id": "-7DZgi4iqbG_",
        "outputId": "28b57430-82b3-48e7-b392-c823024855f4"
      },
      "outputs": [
        {
          "output_type": "stream",
          "name": "stdout",
          "text": [
            "Mounted at /content/drive\n"
          ]
        }
      ],
      "source": [
        "from google.colab import drive\n",
        "drive.mount('/content/drive') #shift + Enter"
      ]
    },
    {
      "cell_type": "code",
      "source": [
        "import os\n",
        "from keras.preprocessing import image\n",
        "from keras.layers import Conv2D, MaxPooling2D, Input, Activation, Flatten, Dense, BatchNormalization, Dropout\n",
        "from tensorflow.keras.applications.resnet50 import ResNet50, preprocess_input\n",
        "from tensorflow.keras.callbacks import ModelCheckpoint"
      ],
      "metadata": {
        "id": "uQGeTwRVsMIT"
      },
      "execution_count": 5,
      "outputs": []
    },
    {
      "cell_type": "code",
      "source": [
        "root_path=r'/content/drive/MyDrive/dataset/fer'\n",
        "emotions = os.listdir(root_path)"
      ],
      "metadata": {
        "id": "7OQtSqJ2rukM"
      },
      "execution_count": 6,
      "outputs": []
    },
    {
      "cell_type": "code",
      "source": [
        "import cv2"
      ],
      "metadata": {
        "id": "46aVvpC3tRJd"
      },
      "execution_count": 7,
      "outputs": []
    },
    {
      "cell_type": "code",
      "source": [
        "happy_items=os.listdir(os.path.join(root_path, 'happy'))\n",
        "len(happy_items)"
      ],
      "metadata": {
        "colab": {
          "base_uri": "https://localhost:8080/"
        },
        "id": "-dbKaxYf2oXc",
        "outputId": "f428ca0e-3660-48ba-f513-64dff95f0a4d"
      },
      "execution_count": 8,
      "outputs": [
        {
          "output_type": "execute_result",
          "data": {
            "text/plain": [
              "1774"
            ]
          },
          "metadata": {},
          "execution_count": 8
        }
      ]
    },
    {
      "cell_type": "code",
      "source": [
        "emotions"
      ],
      "metadata": {
        "colab": {
          "base_uri": "https://localhost:8080/"
        },
        "id": "QDAlujU8u9au",
        "outputId": "b2a16761-9de0-462c-e227-23c2177debaf"
      },
      "execution_count": 9,
      "outputs": [
        {
          "output_type": "execute_result",
          "data": {
            "text/plain": [
              "['sad', 'neutral', 'happy']"
            ]
          },
          "metadata": {},
          "execution_count": 9
        }
      ]
    },
    {
      "cell_type": "code",
      "source": [
        "print(emotions.index('neutral'))"
      ],
      "metadata": {
        "colab": {
          "base_uri": "https://localhost:8080/"
        },
        "id": "lXx6kcv4u6A-",
        "outputId": "57059d0a-cd94-4227-d482-d9c6fa89126a"
      },
      "execution_count": 10,
      "outputs": [
        {
          "output_type": "stream",
          "name": "stdout",
          "text": [
            "1\n"
          ]
        }
      ]
    },
    {
      "cell_type": "code",
      "source": [
        "\n",
        "from keras.utils import to_categorical\n",
        "import numpy as np"
      ],
      "metadata": {
        "id": "kN5KlnkavWbN"
      },
      "execution_count": 11,
      "outputs": []
    },
    {
      "cell_type": "code",
      "source": [
        "train_x = []\n",
        "train_y = []\n",
        "\n",
        "for emotion in emotions:\n",
        "  full_path = os.path.join(root_path,emotion)\n",
        "  imgs = os.listdir(full_path)\n",
        "  for img in imgs:\n",
        "    img_path = os.path.join(full_path, img)\n",
        "    vector_img = image.load_img(img_path, target_size=(224,224))\n",
        "    vector_img = image.img_to_array(vector_img)\n",
        "    vector_img = preprocess_input(vector_img)\n",
        "    train_x.append(vector_img)\n",
        "    train_y.append(emotions.index(emotion))\n",
        "\n",
        "train_x = np.asarray(train_x)\n",
        "train_y = to_categorical(train_y)"
      ],
      "metadata": {
        "id": "PxT98lP6sP-E"
      },
      "execution_count": 12,
      "outputs": []
    },
    {
      "cell_type": "code",
      "source": [
        "train_x.shape, train_y.shape"
      ],
      "metadata": {
        "id": "_vKPN_FmsRMo",
        "colab": {
          "base_uri": "https://localhost:8080/"
        },
        "outputId": "2c58000b-78d9-471f-9641-62b9b3490ee8"
      },
      "execution_count": 13,
      "outputs": [
        {
          "output_type": "execute_result",
          "data": {
            "text/plain": [
              "((4254, 224, 224, 3), (4254, 3))"
            ]
          },
          "metadata": {},
          "execution_count": 13
        }
      ]
    },
    {
      "cell_type": "code",
      "source": [
        "from keras.models import Model\n",
        "from sklearn.model_selection import train_test_split"
      ],
      "metadata": {
        "id": "sUYWSKfsxgvl"
      },
      "execution_count": 14,
      "outputs": []
    },
    {
      "cell_type": "code",
      "source": [
        "train_x, test_x, train_y, test_y = train_test_split(train_x, train_y, test_size=0.2, random_state=7)\n",
        "train_x, val_x, train_y, val_y = train_test_split(train_x, train_y, test_size=0.2, random_state=7)"
      ],
      "metadata": {
        "id": "8o3tagUtx1RD"
      },
      "execution_count": 15,
      "outputs": []
    },
    {
      "cell_type": "code",
      "source": [
        "train_x.shape, val_x.shape, test_x.shape, train_y.shape, val_y.shape, test_y.shape"
      ],
      "metadata": {
        "id": "8eCtIeCDyI16",
        "colab": {
          "base_uri": "https://localhost:8080/"
        },
        "outputId": "644e4238-4894-4fd3-e103-9b0d2a8a9cc9"
      },
      "execution_count": 16,
      "outputs": [
        {
          "output_type": "execute_result",
          "data": {
            "text/plain": [
              "((2722, 224, 224, 3),\n",
              " (681, 224, 224, 3),\n",
              " (851, 224, 224, 3),\n",
              " (2722, 3),\n",
              " (681, 3),\n",
              " (851, 3))"
            ]
          },
          "metadata": {},
          "execution_count": 16
        }
      ]
    },
    {
      "cell_type": "code",
      "source": [
        "base_model=ResNet50(input_shape=(224,224,3))\n",
        "#base_model.summary()"
      ],
      "metadata": {
        "id": "slGBhhplJPMb"
      },
      "execution_count": 24,
      "outputs": []
    },
    {
      "cell_type": "code",
      "source": [
        "for layer in base_model.layers:\n",
        "    layer.trainable=False\n",
        "x=base_model.get_layer('avg_pool').output\n",
        "x=Dense(3)(x)\n",
        "for layer in base_model.layers[-26:]:\n",
        "    layer.trainable = True\n",
        "\n",
        "model_save_path=r'/content/drive/MyDrive/saved_models/model_weights.h5'\n",
        "model_checkpoint_callback=ModelCheckpoint(model_save_path, monitor='val_loss', mode='min', save_weights_only=True, save_best_only=True)\n",
        "model = Model(inputs=base_model.inputs, outputs=x)\n",
        "\n",
        "model.compile(loss='categorical_crossentropy', optimizer='adam', metrics=['accuracy'])\n",
        "model.fit(train_x, train_y, validation_data=(val_x, val_y), epochs=10, batch_size=32, callbacks=[model_checkpoint_callback])"
      ],
      "metadata": {
        "id": "Lwi4l4kaxJ1p"
      },
      "execution_count": null,
      "outputs": []
    },
    {
      "cell_type": "code",
      "source": [
        "#model.load_weights(model_save_path)\n",
        "test_loss, test_acc = model.evaluate(test_x, test_y)\n",
        "\n",
        "print('test acc:', test_acc)"
      ],
      "metadata": {
        "id": "CwIYIxifcKxv"
      },
      "execution_count": null,
      "outputs": []
    },
    {
      "cell_type": "code",
      "source": [],
      "metadata": {
        "id": "Vhfq2GaMLJkE"
      },
      "execution_count": null,
      "outputs": []
    }
  ]
}