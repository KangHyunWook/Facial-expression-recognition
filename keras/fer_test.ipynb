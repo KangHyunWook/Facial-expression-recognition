{
  "nbformat": 4,
  "nbformat_minor": 0,
  "metadata": {
    "colab": {
      "provenance": [],
      "gpuType": "T4"
    },
    "kernelspec": {
      "name": "python3",
      "display_name": "Python 3"
    },
    "language_info": {
      "name": "python"
    },
    "accelerator": "GPU"
  },
  "cells": [
    {
      "cell_type": "code",
      "execution_count": null,
      "metadata": {
        "colab": {
          "base_uri": "https://localhost:8080/"
        },
        "id": "-7DZgi4iqbG_",
        "outputId": "fee0b879-671a-480e-d531-61c933aa91cc"
      },
      "outputs": [
        {
          "output_type": "stream",
          "name": "stdout",
          "text": [
            "Mounted at /content/drive\n"
          ]
        }
      ],
      "source": [
        "from google.colab import drive\n",
        "drive.mount('/content/drive') #shift + Enter"
      ]
    },
    {
      "cell_type": "code",
      "source": [
        "import os"
      ],
      "metadata": {
        "id": "uQGeTwRVsMIT"
      },
      "execution_count": null,
      "outputs": []
    },
    {
      "cell_type": "code",
      "source": [
        "root_path=r'/content/drive/MyDrive/FER/data'\n",
        "emotions = os.listdir(root_path)"
      ],
      "metadata": {
        "id": "7OQtSqJ2rukM"
      },
      "execution_count": null,
      "outputs": []
    },
    {
      "cell_type": "code",
      "source": [
        "import cv2"
      ],
      "metadata": {
        "id": "46aVvpC3tRJd"
      },
      "execution_count": null,
      "outputs": []
    },
    {
      "cell_type": "code",
      "source": [
        "emotions"
      ],
      "metadata": {
        "colab": {
          "base_uri": "https://localhost:8080/"
        },
        "id": "QDAlujU8u9au",
        "outputId": "d04d0a05-aa4c-462d-e978-188c85be12d6"
      },
      "execution_count": null,
      "outputs": [
        {
          "output_type": "execute_result",
          "data": {
            "text/plain": [
              "['happy', 'sad', 'fear', 'surprise']"
            ]
          },
          "metadata": {},
          "execution_count": 5
        }
      ]
    },
    {
      "cell_type": "code",
      "source": [
        "print(emotions.index('fear'))"
      ],
      "metadata": {
        "colab": {
          "base_uri": "https://localhost:8080/"
        },
        "id": "lXx6kcv4u6A-",
        "outputId": "1c93548d-dd88-4cfb-ad53-4d3f68220b49"
      },
      "execution_count": null,
      "outputs": [
        {
          "output_type": "stream",
          "name": "stdout",
          "text": [
            "2\n"
          ]
        }
      ]
    },
    {
      "cell_type": "code",
      "source": [
        "from keras.utils import to_categorical\n",
        "import numpy as np"
      ],
      "metadata": {
        "id": "kN5KlnkavWbN"
      },
      "execution_count": null,
      "outputs": []
    },
    {
      "cell_type": "code",
      "source": [
        "train_x = []\n",
        "train_y = []\n",
        "#supervised learning\n",
        "\n",
        "for emotion in emotions:\n",
        "  full_path = os.path.join(root_path,emotion)\n",
        "  imgs = os.listdir(full_path)\n",
        "  for img in imgs:\n",
        "    img_path = os.path.join(full_path,img)\n",
        "    img_arr = cv2.imread(img_path)\n",
        "    train_x.append(img_arr)\n",
        "    train_y.append(emotions.index(emotion))\n",
        "\n",
        "train_x = np.asarray(train_x)\n",
        "train_y = to_categorical(train_y)"
      ],
      "metadata": {
        "id": "PxT98lP6sP-E"
      },
      "execution_count": null,
      "outputs": []
    },
    {
      "cell_type": "code",
      "source": [
        "train_x.shape, train_y.shape"
      ],
      "metadata": {
        "colab": {
          "base_uri": "https://localhost:8080/"
        },
        "id": "_vKPN_FmsRMo",
        "outputId": "c4fe7615-fd65-4e9d-9909-e695ecd01461"
      },
      "execution_count": null,
      "outputs": [
        {
          "output_type": "execute_result",
          "data": {
            "text/plain": [
              "((356, 48, 48, 3), (356, 4))"
            ]
          },
          "metadata": {},
          "execution_count": 9
        }
      ]
    },
    {
      "cell_type": "code",
      "source": [
        "from keras.layers import Conv2D, MaxPooling2D, Input, Activation, Flatten, Dense"
      ],
      "metadata": {
        "id": "ta8PEMb5w87j"
      },
      "execution_count": null,
      "outputs": []
    },
    {
      "cell_type": "code",
      "source": [
        "inputs = Input(shape=(48, 48, 3))\n",
        "x=Conv2D(32, 3)(inputs)\n",
        "x=Activation('relu')(x)\n",
        "x=Conv2D(64, 3)(x)\n",
        "x=Activation('relu')(x)\n",
        "x=MaxPooling2D(pool_size=(2, 2), strides=1)(x)\n",
        "x=Flatten()(x)\n",
        "x=Dense(4)(x) #fully connected layer\n",
        "x=Activation('softmax')(x)"
      ],
      "metadata": {
        "id": "79erX7z0vgoi"
      },
      "execution_count": null,
      "outputs": []
    },
    {
      "cell_type": "code",
      "source": [
        "from keras.models import Model\n",
        "from sklearn.model_selection import train_test_split"
      ],
      "metadata": {
        "id": "sUYWSKfsxgvl"
      },
      "execution_count": null,
      "outputs": []
    },
    {
      "cell_type": "code",
      "source": [
        "train_x, test_x, train_y, test_y = train_test_split(train_x, train_y, test_size=0.2, random_state=7)"
      ],
      "metadata": {
        "id": "8o3tagUtx1RD"
      },
      "execution_count": null,
      "outputs": []
    },
    {
      "cell_type": "code",
      "source": [
        "train_x.shape, test_x.shape, train_y.shape, test_y.shape"
      ],
      "metadata": {
        "colab": {
          "base_uri": "https://localhost:8080/"
        },
        "id": "8eCtIeCDyI16",
        "outputId": "d1394261-1ca3-4605-bbd6-690d6db49af5"
      },
      "execution_count": null,
      "outputs": [
        {
          "output_type": "execute_result",
          "data": {
            "text/plain": [
              "((181, 48, 48, 3), (46, 48, 48, 3), (181, 4), (46, 4))"
            ]
          },
          "metadata": {},
          "execution_count": 25
        }
      ]
    },
    {
      "cell_type": "code",
      "source": [
        "model = Model(inputs=inputs, outputs=x)\n",
        "\n",
        "model.compile(loss='categorical_crossentropy', optimizer='adam', metrics=['accuracy'])\n",
        "model.fit(train_x, train_y, validation_data=(test_x, test_y), epochs=50, batch_size=16)"
      ],
      "metadata": {
        "colab": {
          "base_uri": "https://localhost:8080/"
        },
        "id": "Lwi4l4kaxJ1p",
        "outputId": "b22b841e-4abd-4655-f504-498756907801"
      },
      "execution_count": null,
      "outputs": [
        {
          "output_type": "stream",
          "name": "stdout",
          "text": [
            "Epoch 1/50\n",
            "12/12 [==============================] - 2s 45ms/step - loss: 615.0113 - accuracy: 0.2265 - val_loss: 14.1020 - val_accuracy: 0.3696\n",
            "Epoch 2/50\n",
            "12/12 [==============================] - 0s 8ms/step - loss: 2.3937 - accuracy: 0.3978 - val_loss: 1.4192 - val_accuracy: 0.2609\n",
            "Epoch 3/50\n",
            "12/12 [==============================] - 0s 9ms/step - loss: 1.0101 - accuracy: 0.6077 - val_loss: 1.6751 - val_accuracy: 0.2174\n",
            "Epoch 4/50\n",
            "12/12 [==============================] - 0s 8ms/step - loss: 0.7672 - accuracy: 0.7403 - val_loss: 1.7178 - val_accuracy: 0.3696\n",
            "Epoch 5/50\n",
            "12/12 [==============================] - 0s 9ms/step - loss: 0.4429 - accuracy: 0.8398 - val_loss: 2.7527 - val_accuracy: 0.3696\n",
            "Epoch 6/50\n",
            "12/12 [==============================] - 0s 9ms/step - loss: 0.3595 - accuracy: 0.8674 - val_loss: 1.7339 - val_accuracy: 0.4130\n",
            "Epoch 7/50\n",
            "12/12 [==============================] - 0s 8ms/step - loss: 0.2690 - accuracy: 0.9227 - val_loss: 3.1689 - val_accuracy: 0.4130\n",
            "Epoch 8/50\n",
            "12/12 [==============================] - 0s 9ms/step - loss: 0.1298 - accuracy: 0.9558 - val_loss: 3.3933 - val_accuracy: 0.3696\n",
            "Epoch 9/50\n",
            "12/12 [==============================] - 0s 9ms/step - loss: 0.1375 - accuracy: 0.9613 - val_loss: 3.7294 - val_accuracy: 0.3913\n",
            "Epoch 10/50\n",
            "12/12 [==============================] - 0s 8ms/step - loss: 0.1224 - accuracy: 0.9669 - val_loss: 4.0796 - val_accuracy: 0.3913\n",
            "Epoch 11/50\n",
            "12/12 [==============================] - 0s 8ms/step - loss: 0.1164 - accuracy: 0.9613 - val_loss: 4.5173 - val_accuracy: 0.4565\n",
            "Epoch 12/50\n",
            "12/12 [==============================] - 0s 9ms/step - loss: 0.0668 - accuracy: 0.9779 - val_loss: 2.9944 - val_accuracy: 0.5000\n",
            "Epoch 13/50\n",
            "12/12 [==============================] - 0s 8ms/step - loss: 0.1919 - accuracy: 0.9558 - val_loss: 2.9083 - val_accuracy: 0.4348\n",
            "Epoch 14/50\n",
            "12/12 [==============================] - 0s 9ms/step - loss: 0.1411 - accuracy: 0.9558 - val_loss: 5.7036 - val_accuracy: 0.3261\n",
            "Epoch 15/50\n",
            "12/12 [==============================] - 0s 10ms/step - loss: 0.0812 - accuracy: 0.9503 - val_loss: 2.8622 - val_accuracy: 0.5435\n",
            "Epoch 16/50\n",
            "12/12 [==============================] - 0s 8ms/step - loss: 0.0663 - accuracy: 0.9834 - val_loss: 4.3080 - val_accuracy: 0.3696\n",
            "Epoch 17/50\n",
            "12/12 [==============================] - 0s 8ms/step - loss: 0.0530 - accuracy: 0.9890 - val_loss: 2.9763 - val_accuracy: 0.4130\n",
            "Epoch 18/50\n",
            "12/12 [==============================] - 0s 9ms/step - loss: 0.0448 - accuracy: 0.9945 - val_loss: 5.7399 - val_accuracy: 0.3696\n",
            "Epoch 19/50\n",
            "12/12 [==============================] - 0s 8ms/step - loss: 0.0236 - accuracy: 0.9890 - val_loss: 4.9320 - val_accuracy: 0.3913\n",
            "Epoch 20/50\n",
            "12/12 [==============================] - 0s 9ms/step - loss: 0.0207 - accuracy: 1.0000 - val_loss: 5.8278 - val_accuracy: 0.3696\n",
            "Epoch 21/50\n",
            "12/12 [==============================] - 0s 8ms/step - loss: 0.0069 - accuracy: 1.0000 - val_loss: 8.4788 - val_accuracy: 0.3478\n",
            "Epoch 22/50\n",
            "12/12 [==============================] - 0s 8ms/step - loss: 0.0445 - accuracy: 0.9890 - val_loss: 8.5379 - val_accuracy: 0.3913\n",
            "Epoch 23/50\n",
            "12/12 [==============================] - 0s 9ms/step - loss: 0.1171 - accuracy: 0.9724 - val_loss: 7.1950 - val_accuracy: 0.3913\n",
            "Epoch 24/50\n",
            "12/12 [==============================] - 0s 12ms/step - loss: 0.0982 - accuracy: 0.9779 - val_loss: 5.6271 - val_accuracy: 0.3913\n",
            "Epoch 25/50\n",
            "12/12 [==============================] - 0s 15ms/step - loss: 0.0753 - accuracy: 0.9834 - val_loss: 4.2185 - val_accuracy: 0.3696\n",
            "Epoch 26/50\n",
            "12/12 [==============================] - 0s 15ms/step - loss: 0.0442 - accuracy: 0.9945 - val_loss: 4.7660 - val_accuracy: 0.3261\n",
            "Epoch 27/50\n",
            "12/12 [==============================] - 0s 11ms/step - loss: 0.0447 - accuracy: 0.9890 - val_loss: 6.7254 - val_accuracy: 0.3261\n",
            "Epoch 28/50\n",
            "12/12 [==============================] - 0s 11ms/step - loss: 0.0236 - accuracy: 0.9945 - val_loss: 7.7339 - val_accuracy: 0.3261\n",
            "Epoch 29/50\n",
            "12/12 [==============================] - 0s 11ms/step - loss: 0.0063 - accuracy: 1.0000 - val_loss: 8.4829 - val_accuracy: 0.3043\n",
            "Epoch 30/50\n",
            "12/12 [==============================] - 0s 11ms/step - loss: 8.2830e-04 - accuracy: 1.0000 - val_loss: 9.4088 - val_accuracy: 0.3696\n",
            "Epoch 31/50\n",
            "12/12 [==============================] - 0s 12ms/step - loss: 4.6310e-04 - accuracy: 1.0000 - val_loss: 9.7824 - val_accuracy: 0.3478\n",
            "Epoch 32/50\n",
            "12/12 [==============================] - 0s 11ms/step - loss: 3.1504e-04 - accuracy: 1.0000 - val_loss: 9.8169 - val_accuracy: 0.3478\n",
            "Epoch 33/50\n",
            "12/12 [==============================] - 0s 11ms/step - loss: 2.3012e-04 - accuracy: 1.0000 - val_loss: 9.8403 - val_accuracy: 0.3478\n",
            "Epoch 34/50\n",
            "12/12 [==============================] - 0s 11ms/step - loss: 2.0364e-04 - accuracy: 1.0000 - val_loss: 9.8607 - val_accuracy: 0.3478\n",
            "Epoch 35/50\n",
            "12/12 [==============================] - 0s 11ms/step - loss: 1.8707e-04 - accuracy: 1.0000 - val_loss: 9.8955 - val_accuracy: 0.3478\n",
            "Epoch 36/50\n",
            "12/12 [==============================] - 0s 13ms/step - loss: 1.7262e-04 - accuracy: 1.0000 - val_loss: 9.9672 - val_accuracy: 0.3478\n",
            "Epoch 37/50\n",
            "12/12 [==============================] - 0s 11ms/step - loss: 1.5893e-04 - accuracy: 1.0000 - val_loss: 10.0133 - val_accuracy: 0.3478\n",
            "Epoch 38/50\n",
            "12/12 [==============================] - 0s 12ms/step - loss: 1.4818e-04 - accuracy: 1.0000 - val_loss: 10.0613 - val_accuracy: 0.3478\n",
            "Epoch 39/50\n",
            "12/12 [==============================] - 0s 11ms/step - loss: 1.3967e-04 - accuracy: 1.0000 - val_loss: 10.0965 - val_accuracy: 0.3478\n",
            "Epoch 40/50\n",
            "12/12 [==============================] - 0s 10ms/step - loss: 1.3200e-04 - accuracy: 1.0000 - val_loss: 10.1288 - val_accuracy: 0.3478\n",
            "Epoch 41/50\n",
            "12/12 [==============================] - 0s 11ms/step - loss: 1.2439e-04 - accuracy: 1.0000 - val_loss: 10.1657 - val_accuracy: 0.3478\n",
            "Epoch 42/50\n",
            "12/12 [==============================] - 0s 11ms/step - loss: 1.1841e-04 - accuracy: 1.0000 - val_loss: 10.2021 - val_accuracy: 0.3478\n",
            "Epoch 43/50\n",
            "12/12 [==============================] - 0s 10ms/step - loss: 1.1222e-04 - accuracy: 1.0000 - val_loss: 10.2266 - val_accuracy: 0.3478\n",
            "Epoch 44/50\n",
            "12/12 [==============================] - 0s 10ms/step - loss: 1.0660e-04 - accuracy: 1.0000 - val_loss: 10.2675 - val_accuracy: 0.3478\n",
            "Epoch 45/50\n",
            "12/12 [==============================] - 0s 12ms/step - loss: 1.0117e-04 - accuracy: 1.0000 - val_loss: 10.3101 - val_accuracy: 0.3478\n",
            "Epoch 46/50\n",
            "12/12 [==============================] - 0s 11ms/step - loss: 9.6499e-05 - accuracy: 1.0000 - val_loss: 10.3440 - val_accuracy: 0.3478\n",
            "Epoch 47/50\n",
            "12/12 [==============================] - 0s 11ms/step - loss: 9.1253e-05 - accuracy: 1.0000 - val_loss: 10.3865 - val_accuracy: 0.3261\n",
            "Epoch 48/50\n",
            "12/12 [==============================] - 0s 11ms/step - loss: 8.6768e-05 - accuracy: 1.0000 - val_loss: 10.4350 - val_accuracy: 0.3261\n",
            "Epoch 49/50\n",
            "12/12 [==============================] - 0s 12ms/step - loss: 8.2873e-05 - accuracy: 1.0000 - val_loss: 10.4751 - val_accuracy: 0.3261\n",
            "Epoch 50/50\n",
            "12/12 [==============================] - 0s 12ms/step - loss: 7.9171e-05 - accuracy: 1.0000 - val_loss: 10.5119 - val_accuracy: 0.3261\n"
          ]
        },
        {
          "output_type": "execute_result",
          "data": {
            "text/plain": [
              "<keras.src.callbacks.History at 0x7f8f9478e6e0>"
            ]
          },
          "metadata": {},
          "execution_count": 26
        }
      ]
    },
    {
      "cell_type": "code",
      "source": [],
      "metadata": {
        "id": "zlvrqOWYyWRp"
      },
      "execution_count": null,
      "outputs": []
    }
  ]
}